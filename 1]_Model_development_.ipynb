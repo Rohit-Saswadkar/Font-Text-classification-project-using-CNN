{
  "cells": [
    {
      "cell_type": "markdown",
      "metadata": {
        "id": "view-in-github",
        "colab_type": "text"
      },
      "source": [
        "<a href=\"https://colab.research.google.com/github/Rohit-Saswadkar/Font-Text-classification-project-using-CNN/blob/main/1%5D_Model_development_.ipynb\" target=\"_parent\"><img src=\"https://colab.research.google.com/assets/colab-badge.svg\" alt=\"Open In Colab\"/></a>"
      ]
    },
    {
      "cell_type": "markdown",
      "metadata": {
        "id": "MjD007MhYouO"
      },
      "source": [
        "\n",
        "#Font Recognition Model Architecture using CNN"
      ]
    },
    {
      "cell_type": "markdown",
      "metadata": {
        "id": "hNrIw6wYYsSz"
      },
      "source": [
        "**by Rohit Saswadkar**\n",
        "* Email - rohit.saswadkar1@gmail.com\n",
        "* Linkedin - linkedin.com/in/rohit-saswadkar-595453237\n",
        "* Project Link - https://github.com/Rohit-Saswadkar/Font-Text-classification-project-using-CNN/tree/main\\\n",
        "* Dataset download link - https://www.kaggle.com/datasets/muhammadardiputra/font-recognition-data/download?datasetVersionNumber=1\n",
        "* Dataset website - https://www.kaggle.com/datasets/muhammadardiputra/font-recognition-data"
      ]
    },
    {
      "cell_type": "markdown",
      "metadata": {
        "id": "3ILO_Xa_wJ0D"
      },
      "source": [
        "##**Advancements**"
      ]
    },
    {
      "cell_type": "markdown",
      "metadata": {
        "id": "kvkL1WQEwN36"
      },
      "source": [
        "1. Added padding to the images and maintained aspect ratio\n",
        "2. Applied Gaussin blur to reduce noise and add smoother boundaries\n",
        "3. Data Augmentation techniques\n",
        "4. Improved Model Architecture\n",
        "5. Early stoppin while training\n",
        "\n",
        "**This techniques are explained at each implementation stage.**"
      ]
    },
    {
      "cell_type": "markdown",
      "metadata": {
        "id": "Kbpr3MQO4o6x"
      },
      "source": [
        "Install required libraries\n",
        "1] tensorflow to create a model\n",
        "2] open cv for image processing"
      ]
    },
    {
      "cell_type": "code",
      "execution_count": 1,
      "metadata": {
        "colab": {
          "base_uri": "https://localhost:8080/"
        },
        "id": "Gzvj_wP7o-cu",
        "outputId": "b457c72c-01b2-4e51-9625-18372ec84a26"
      },
      "outputs": [
        {
          "output_type": "stream",
          "name": "stdout",
          "text": [
            "Requirement already satisfied: tensorflow in /usr/local/lib/python3.10/dist-packages (2.15.0)\n",
            "Requirement already satisfied: absl-py>=1.0.0 in /usr/local/lib/python3.10/dist-packages (from tensorflow) (1.4.0)\n",
            "Requirement already satisfied: astunparse>=1.6.0 in /usr/local/lib/python3.10/dist-packages (from tensorflow) (1.6.3)\n",
            "Requirement already satisfied: flatbuffers>=23.5.26 in /usr/local/lib/python3.10/dist-packages (from tensorflow) (24.3.25)\n",
            "Requirement already satisfied: gast!=0.5.0,!=0.5.1,!=0.5.2,>=0.2.1 in /usr/local/lib/python3.10/dist-packages (from tensorflow) (0.5.4)\n",
            "Requirement already satisfied: google-pasta>=0.1.1 in /usr/local/lib/python3.10/dist-packages (from tensorflow) (0.2.0)\n",
            "Requirement already satisfied: h5py>=2.9.0 in /usr/local/lib/python3.10/dist-packages (from tensorflow) (3.9.0)\n",
            "Requirement already satisfied: libclang>=13.0.0 in /usr/local/lib/python3.10/dist-packages (from tensorflow) (18.1.1)\n",
            "Requirement already satisfied: ml-dtypes~=0.2.0 in /usr/local/lib/python3.10/dist-packages (from tensorflow) (0.2.0)\n",
            "Requirement already satisfied: numpy<2.0.0,>=1.23.5 in /usr/local/lib/python3.10/dist-packages (from tensorflow) (1.25.2)\n",
            "Requirement already satisfied: opt-einsum>=2.3.2 in /usr/local/lib/python3.10/dist-packages (from tensorflow) (3.3.0)\n",
            "Requirement already satisfied: packaging in /usr/local/lib/python3.10/dist-packages (from tensorflow) (24.0)\n",
            "Requirement already satisfied: protobuf!=4.21.0,!=4.21.1,!=4.21.2,!=4.21.3,!=4.21.4,!=4.21.5,<5.0.0dev,>=3.20.3 in /usr/local/lib/python3.10/dist-packages (from tensorflow) (3.20.3)\n",
            "Requirement already satisfied: setuptools in /usr/local/lib/python3.10/dist-packages (from tensorflow) (67.7.2)\n",
            "Requirement already satisfied: six>=1.12.0 in /usr/local/lib/python3.10/dist-packages (from tensorflow) (1.16.0)\n",
            "Requirement already satisfied: termcolor>=1.1.0 in /usr/local/lib/python3.10/dist-packages (from tensorflow) (2.4.0)\n",
            "Requirement already satisfied: typing-extensions>=3.6.6 in /usr/local/lib/python3.10/dist-packages (from tensorflow) (4.11.0)\n",
            "Requirement already satisfied: wrapt<1.15,>=1.11.0 in /usr/local/lib/python3.10/dist-packages (from tensorflow) (1.14.1)\n",
            "Requirement already satisfied: tensorflow-io-gcs-filesystem>=0.23.1 in /usr/local/lib/python3.10/dist-packages (from tensorflow) (0.37.0)\n",
            "Requirement already satisfied: grpcio<2.0,>=1.24.3 in /usr/local/lib/python3.10/dist-packages (from tensorflow) (1.63.0)\n",
            "Requirement already satisfied: tensorboard<2.16,>=2.15 in /usr/local/lib/python3.10/dist-packages (from tensorflow) (2.15.2)\n",
            "Requirement already satisfied: tensorflow-estimator<2.16,>=2.15.0 in /usr/local/lib/python3.10/dist-packages (from tensorflow) (2.15.0)\n",
            "Requirement already satisfied: keras<2.16,>=2.15.0 in /usr/local/lib/python3.10/dist-packages (from tensorflow) (2.15.0)\n",
            "Requirement already satisfied: wheel<1.0,>=0.23.0 in /usr/local/lib/python3.10/dist-packages (from astunparse>=1.6.0->tensorflow) (0.43.0)\n",
            "Requirement already satisfied: google-auth<3,>=1.6.3 in /usr/local/lib/python3.10/dist-packages (from tensorboard<2.16,>=2.15->tensorflow) (2.27.0)\n",
            "Requirement already satisfied: google-auth-oauthlib<2,>=0.5 in /usr/local/lib/python3.10/dist-packages (from tensorboard<2.16,>=2.15->tensorflow) (1.2.0)\n",
            "Requirement already satisfied: markdown>=2.6.8 in /usr/local/lib/python3.10/dist-packages (from tensorboard<2.16,>=2.15->tensorflow) (3.6)\n",
            "Requirement already satisfied: requests<3,>=2.21.0 in /usr/local/lib/python3.10/dist-packages (from tensorboard<2.16,>=2.15->tensorflow) (2.31.0)\n",
            "Requirement already satisfied: tensorboard-data-server<0.8.0,>=0.7.0 in /usr/local/lib/python3.10/dist-packages (from tensorboard<2.16,>=2.15->tensorflow) (0.7.2)\n",
            "Requirement already satisfied: werkzeug>=1.0.1 in /usr/local/lib/python3.10/dist-packages (from tensorboard<2.16,>=2.15->tensorflow) (3.0.3)\n",
            "Requirement already satisfied: cachetools<6.0,>=2.0.0 in /usr/local/lib/python3.10/dist-packages (from google-auth<3,>=1.6.3->tensorboard<2.16,>=2.15->tensorflow) (5.3.3)\n",
            "Requirement already satisfied: pyasn1-modules>=0.2.1 in /usr/local/lib/python3.10/dist-packages (from google-auth<3,>=1.6.3->tensorboard<2.16,>=2.15->tensorflow) (0.4.0)\n",
            "Requirement already satisfied: rsa<5,>=3.1.4 in /usr/local/lib/python3.10/dist-packages (from google-auth<3,>=1.6.3->tensorboard<2.16,>=2.15->tensorflow) (4.9)\n",
            "Requirement already satisfied: requests-oauthlib>=0.7.0 in /usr/local/lib/python3.10/dist-packages (from google-auth-oauthlib<2,>=0.5->tensorboard<2.16,>=2.15->tensorflow) (1.3.1)\n",
            "Requirement already satisfied: charset-normalizer<4,>=2 in /usr/local/lib/python3.10/dist-packages (from requests<3,>=2.21.0->tensorboard<2.16,>=2.15->tensorflow) (3.3.2)\n",
            "Requirement already satisfied: idna<4,>=2.5 in /usr/local/lib/python3.10/dist-packages (from requests<3,>=2.21.0->tensorboard<2.16,>=2.15->tensorflow) (3.7)\n",
            "Requirement already satisfied: urllib3<3,>=1.21.1 in /usr/local/lib/python3.10/dist-packages (from requests<3,>=2.21.0->tensorboard<2.16,>=2.15->tensorflow) (2.0.7)\n",
            "Requirement already satisfied: certifi>=2017.4.17 in /usr/local/lib/python3.10/dist-packages (from requests<3,>=2.21.0->tensorboard<2.16,>=2.15->tensorflow) (2024.2.2)\n",
            "Requirement already satisfied: MarkupSafe>=2.1.1 in /usr/local/lib/python3.10/dist-packages (from werkzeug>=1.0.1->tensorboard<2.16,>=2.15->tensorflow) (2.1.5)\n",
            "Requirement already satisfied: pyasn1<0.7.0,>=0.4.6 in /usr/local/lib/python3.10/dist-packages (from pyasn1-modules>=0.2.1->google-auth<3,>=1.6.3->tensorboard<2.16,>=2.15->tensorflow) (0.6.0)\n",
            "Requirement already satisfied: oauthlib>=3.0.0 in /usr/local/lib/python3.10/dist-packages (from requests-oauthlib>=0.7.0->google-auth-oauthlib<2,>=0.5->tensorboard<2.16,>=2.15->tensorflow) (3.2.2)\n",
            "\u001b[31mERROR: Could not find a version that satisfies the requirement cv2 (from versions: none)\u001b[0m\u001b[31m\n",
            "\u001b[0m\u001b[31mERROR: No matching distribution found for cv2\u001b[0m\u001b[31m\n",
            "\u001b[0m"
          ]
        }
      ],
      "source": [
        "!pip install tensorflow\n",
        "!pip install cv2"
      ]
    },
    {
      "cell_type": "code",
      "execution_count": 2,
      "metadata": {
        "colab": {
          "base_uri": "https://localhost:8080/"
        },
        "id": "7Y4hAIKdog5W",
        "outputId": "2bc7d908-fefb-4c97-b028-940c62a501d6"
      },
      "outputs": [
        {
          "output_type": "stream",
          "name": "stdout",
          "text": [
            "Mounted at /content/drive\n"
          ]
        }
      ],
      "source": [
        "from google.colab import drive\n",
        "drive.mount('/content/drive')"
      ]
    },
    {
      "cell_type": "markdown",
      "metadata": {
        "id": "QTfluBogZhqr"
      },
      "source": [
        "**1] Import required libraries**"
      ]
    },
    {
      "cell_type": "code",
      "execution_count": 3,
      "metadata": {
        "id": "vX5y-vbt1QD0"
      },
      "outputs": [],
      "source": [
        "import numpy as np\n",
        "import matplotlib.pyplot as plt\n",
        "import tensorflow as tf\n",
        "from tensorflow.keras import layers, models\n",
        "from tensorflow.keras.layers import LeakyReLU\n",
        "from sklearn.model_selection import train_test_split\n",
        "from tensorflow.keras.preprocessing.image import ImageDataGenerator\n",
        "from tensorflow.keras.callbacks import EarlyStopping\n",
        "from sklearn.metrics import confusion_matrix\n",
        "import seaborn as sns\n",
        "import matplotlib.pyplot as plt\n",
        "import cv2\n",
        "import os\n",
        "import numpy as np"
      ]
    },
    {
      "cell_type": "code",
      "execution_count": 4,
      "metadata": {
        "id": "Qr42FH7TYBSm"
      },
      "outputs": [],
      "source": [
        "image_width = 128\n",
        "image_height = 32"
      ]
    },
    {
      "cell_type": "markdown",
      "metadata": {
        "id": "ok1nm308Z5M1"
      },
      "source": [
        "**2] Download the dataset from the provided link and paste the file path below to begin the training process.**\n",
        "* There are 2 Datasets 1] Font dataset large and 2] Font dataset large color.\n",
        "* I trained on Font dataset large (gray scale) to reduce computation load on system. Load that \"Font dataset large\" datasets in the path"
      ]
    },
    {
      "cell_type": "code",
      "execution_count": 5,
      "metadata": {
        "id": "3C3wXEKW1Lmx"
      },
      "outputs": [],
      "source": [
        "# Load the font dataset\n",
        "path = r\"/content/drive/MyDrive/Data Science Advanced Projects/1 Data Science Advanced/Deep learning/Font recognition assessment/New Data/New Start\""
      ]
    },
    {
      "cell_type": "markdown",
      "metadata": {
        "id": "_tFI8MMQaCBv"
      },
      "source": [
        "##**Data Ingestion**"
      ]
    },
    {
      "cell_type": "markdown",
      "metadata": {
        "id": "ElR9bMwZa3zW"
      },
      "source": [
        "3] This function loads font images and their corresponding labels from the specified directory. It get input as dictionary , extracts the images and its corresponding labels and stores this into images and labels lists.\n",
        "\n",
        "* I used cv2 to convert the color images to grayscale as we have to only text classification ( also it reduce the computationl load on the laptop). we can also train the model using color data as we have to only remove the line number 1] as shown in below\n"
      ]
    },
    {
      "cell_type": "markdown",
      "metadata": {
        "id": "hQOxr7bsY4f2"
      },
      "source": [
        "**Improvements:**\n",
        "* Added Gaussian blur which will reduce the noise in the image and smoothens the boundaries which make the model robust and genralize well on unseen data\n",
        "\n",
        "*  Converted all image in the size of 32 x 128 while maintaining Aspect ratio as the images in our dataset arent of uniform size so I mainrtained their aspect ration and resized to 32x 128 which will balance the short and long words of the dataset.\n",
        "\n",
        "* For this I use open cv to add padding and added 255 in those padded pixel as it will introduce white background to all images"
      ]
    },
    {
      "cell_type": "code",
      "execution_count": 6,
      "metadata": {
        "id": "FEQt_wOy1SiZ"
      },
      "outputs": [],
      "source": [
        "def load_data(data_directory, target_height=32, target_width=128, apply_gaussian_blur=True):\n",
        "    images = []\n",
        "    labels = []\n",
        "    font_names = os.listdir(data_directory)\n",
        "    for font_name in font_names:\n",
        "        font_dir = os.path.join(data_directory, font_name)\n",
        "        for image_name in os.listdir(font_dir):\n",
        "            image_path = os.path.join(font_dir, image_name)\n",
        "            image = cv2.imread(image_path)\n",
        "\n",
        "            # Applying Gaussian blur\n",
        "            if apply_gaussian_blur:\n",
        "                image = cv2.GaussianBlur(image, (5, 5), 0)  # -------------------Applied gaussian blur which will reduce the noise and improve generalization\n",
        "\n",
        "            # Convert to grayscale if input is any color image\n",
        "            image = cv2.cvtColor(image, cv2.COLOR_BGR2GRAY)  # ------------------ 1] Conerted all images to grayscale as our images has 3 channels\n",
        "\n",
        "            # Resize image while preserving aspect ratio\n",
        "            h, w = image.shape\n",
        "            aspect_ratio = w / h\n",
        "            if aspect_ratio < (target_width / target_height):\n",
        "                new_width = int(target_height * aspect_ratio)\n",
        "                resized_image = cv2.resize(image, (new_width, target_height))\n",
        "                pad_left = (target_width - new_width) // 2\n",
        "                pad_right = target_width - new_width - pad_left\n",
        "                resized_image = cv2.copyMakeBorder(resized_image, 0, 0, pad_left, pad_right, cv2.BORDER_CONSTANT, value= 255)\n",
        "            else:\n",
        "                new_height = int(target_width / aspect_ratio)\n",
        "                resized_image = cv2.resize(image, (target_width, new_height))\n",
        "                pad_top = (target_height - new_height) // 2\n",
        "                pad_bottom = target_height - new_height - pad_top\n",
        "                resized_image = cv2.copyMakeBorder(resized_image, pad_top, pad_bottom, 0, 0, cv2.BORDER_CONSTANT, value= 255)\n",
        "\n",
        "            images.append(resized_image)\n",
        "            labels.append(font_name)\n",
        "    return np.array(images), np.array(labels)"
      ]
    },
    {
      "cell_type": "code",
      "execution_count": 7,
      "metadata": {
        "id": "xnx-2_eg1Wec"
      },
      "outputs": [],
      "source": [
        "data_directory = path\n",
        "images, labels = load_data(data_directory)"
      ]
    },
    {
      "cell_type": "code",
      "execution_count": 8,
      "metadata": {
        "colab": {
          "base_uri": "https://localhost:8080/"
        },
        "id": "UVx4j_WmVbDX",
        "outputId": "cc22ccc6-c485-44a2-b5f9-09bb8bc181f1"
      },
      "outputs": [
        {
          "output_type": "stream",
          "name": "stdout",
          "text": [
            "\n",
            "Dataset shape: (11952, 32, 128)\n",
            "Labels of the dataset: {'Arial', 'Verdana', 'Georgia', 'Century', 'Times New Roman', 'Calibry'}\n"
          ]
        }
      ],
      "source": [
        "print('\\nDataset shape:', images.shape)\n",
        "\n",
        "print('Labels of the dataset:',set(labels))"
      ]
    },
    {
      "cell_type": "markdown",
      "metadata": {
        "id": "Ji6pJv6ZZT7k"
      },
      "source": [
        "**4] Applied one hot encoding on the labels as we have multiple classes**"
      ]
    },
    {
      "cell_type": "code",
      "execution_count": 9,
      "metadata": {
        "id": "mYIGMpIQ1YvG"
      },
      "outputs": [],
      "source": [
        "# Convert labels to one-hot encoding\n",
        "label_to_index = {label: i for i, label in enumerate(np.unique(labels))}\n",
        "index_to_label = {i: label for label, i in label_to_index.items()}\n",
        "labels_encoded = np.array([label_to_index[label] for label in labels])\n",
        "labels_one_hot = tf.keras.utils.to_categorical(labels_encoded)"
      ]
    },
    {
      "cell_type": "markdown",
      "metadata": {
        "id": "szqaWsDHa78R"
      },
      "source": [
        "**5] This code snippet splits the dataset into training, validation, and test sets using the train_test_split function.**"
      ]
    },
    {
      "cell_type": "code",
      "execution_count": 10,
      "metadata": {
        "id": "M37DH56W1aZe"
      },
      "outputs": [],
      "source": [
        "# Split the dataset into training, validation, and test sets\n",
        "X_train, X_test, y_train, y_test = train_test_split(images, labels_one_hot, test_size=0.2, random_state=42, stratify=labels_one_hot)\n",
        "X_train, X_val, y_train, y_val = train_test_split(X_train, y_train, test_size=0.2, random_state=42, stratify=y_train)"
      ]
    },
    {
      "cell_type": "markdown",
      "metadata": {
        "id": "9l0OQ3zcbFk6"
      },
      "source": [
        "**6] This code preprocesses the data by normalizing pixel values and reshaping the input data to match the CNN input shape.**\n",
        "\n",
        "* Each value in matrix of an image represents the color range from 0 to 255 so\n",
        " I Normalized the values of each image by dividing by 255 to convert them in the range of 0 to 1."
      ]
    },
    {
      "cell_type": "code",
      "execution_count": 11,
      "metadata": {
        "id": "NB0uysv01i1H"
      },
      "outputs": [],
      "source": [
        "# preprocess the data (normalize pixel values)\n",
        "X_train = X_train.astype('float32') / 255\n",
        "X_val = X_val.astype('float32') / 255\n",
        "X_test = X_test.astype('float32') / 255\n",
        "\n",
        "# reshape data to match the input shape of the CNN\n",
        "X_train = np.expand_dims(X_train, axis=-1)\n",
        "X_val = np.expand_dims(X_val, axis=-1)\n",
        "X_test = np.expand_dims(X_test, axis=-1)"
      ]
    },
    {
      "cell_type": "markdown",
      "metadata": {
        "id": "DBeS9xNcbvw-"
      },
      "source": [
        "##**Data Augmentation:**\n",
        "\n",
        "* It rotates the image by -15 to 15 degree\n",
        "* Also does width shift and heigt shifts by 10%\n",
        "* It zooms the image by 20 % and Zoomout by 20%\n",
        "* After all transformations the newly created pixels are filled by nearest pixels"
      ]
    },
    {
      "cell_type": "code",
      "execution_count": 12,
      "metadata": {
        "id": "ohUurCxIUP95"
      },
      "outputs": [],
      "source": [
        "# Define data augmentation parameters\n",
        "datagen = ImageDataGenerator(\n",
        "    rotation_range=15,\n",
        "    zoom_range=[0.8, 1.2],\n",
        "    fill_mode='nearest'\n",
        ")"
      ]
    },
    {
      "cell_type": "markdown",
      "metadata": {
        "id": "WPO4YIHRfPM_"
      },
      "source": [
        "* The Geneartor genrates the augmented images as well as normal images on the fly ith batch size of 32 images to the model"
      ]
    },
    {
      "cell_type": "code",
      "execution_count": 13,
      "metadata": {
        "id": "bvL05GE-URy4"
      },
      "outputs": [],
      "source": [
        "# Create data generators for training and validation\n",
        "train_data_generator = datagen.flow(X_train, y_train, batch_size=32)\n",
        "val_data_generator = datagen.flow(X_val, y_val, batch_size=32)"
      ]
    },
    {
      "cell_type": "markdown",
      "metadata": {
        "id": "oP2QQCJya-wp"
      },
      "source": [
        "##**Model architecture**\n",
        "\n",
        "* 1] in this I created 32 filters as of size 3 * 3 and slides along the image to extract meaninful features.\n",
        "\n",
        "* 2] I used max pooling to extract the most valuable features by size of 2 * 2 to minimize computation and reduce overfitting.\n",
        "\n",
        "*  I used relu as activation function in hidden layer to introduce non linearity in the model which returns values if its positive else returns 0 if the vlues is negative.\n",
        "\n",
        "* 3] Used Flatten layer as it flattens the input matrix into 1d array\n",
        "\n",
        "* 4] I Created dense layers of 64 neurons to reduce computational power as I trained this model in my laptop and also it reduces overfitting.\n",
        "\n",
        "* 5] I used softmax in output layer as its mostly used for classification tasks. it converts raw inputs to the probabilities of the classes.\n"
      ]
    },
    {
      "cell_type": "markdown",
      "metadata": {
        "id": "ofw1fbqRxgOb"
      },
      "source": [
        "**Advancements in architecture-**\n",
        "* 1]  Added the zero padding in each convolutional layer in all Convolutional layers.\n",
        "* 2] Added kernel initializer Xavier initializer using \"glorot uniform\"\n",
        "* 3] Added Batch normalization which will normalize the output of the cnn layers effects faster generalization of the model.\n",
        "* 2] Added 50% dropout neuron layer after each hidden layer.\n",
        "* 3] Added Extra hidden layer of 64 neurons."
      ]
    },
    {
      "cell_type": "code",
      "execution_count": 26,
      "metadata": {
        "id": "9CgqArAa1ejR"
      },
      "outputs": [],
      "source": [
        "model = models.Sequential([\n",
        "    layers.Conv2D(64, (3, 3),padding='same', activation= LeakyReLU( alpha= 0.3), input_shape=(image_height ,  image_width , 1)),\n",
        "    layers.MaxPooling2D((3,3)),\n",
        "    layers.Conv2D(64, (3, 3),padding='same', activation=LeakyReLU( alpha= 0.3)),\n",
        "    layers.MaxPooling2D((3,3)),\n",
        "    layers.Conv2D(32, (3, 3),padding = 'same', activation=LeakyReLU( alpha= 0.3)),\n",
        "    layers.Flatten(),\n",
        "    layers.Dense(64, activation=LeakyReLU( alpha= 0.3)),\n",
        "    layers.Dropout(0.5),\n",
        "    layers.Dense(64, activation=LeakyReLU( alpha= 0.3)),\n",
        "    layers.Dropout(0.5),\n",
        "    layers.Dense(len(label_to_index), activation='softmax')  # Output layer with softmax activation\n",
        "])"
      ]
    },
    {
      "cell_type": "markdown",
      "metadata": {
        "id": "0Qdx7yTqbCMA"
      },
      "source": [
        "**7] This code snippet compiles the CNN model with the specified optimizer, loss function, and metrics.**\n",
        "\n",
        "* Used adam as learning to adjust the weights during each epochs as its robust to sparse or noisy gradients.\n",
        "\n",
        "* I used categorical crossentropy as i applied one hot encoding on labels else we have to use sparse categoruical cross entropy.\n",
        "\n",
        "* Used Accuracy as performance monitoring metrics during training as our classification task."
      ]
    },
    {
      "cell_type": "code",
      "execution_count": 27,
      "metadata": {
        "id": "riVrkO2n1gxa"
      },
      "outputs": [],
      "source": [
        "# Compile the model\n",
        "model.compile(optimizer='adam',\n",
        "              loss='categorical_crossentropy',\n",
        "              metrics=['accuracy'])"
      ]
    },
    {
      "cell_type": "markdown",
      "metadata": {
        "id": "nVaP4ftEwBp7"
      },
      "source": [
        "**8] Early stopping**\n",
        "* It stops the training when the change in loss is almost stoppd.\n",
        "* It waits for change in validation loss upto 3 epochs.\n",
        "* Finally it restores best performing weights on the validation set."
      ]
    },
    {
      "cell_type": "code",
      "execution_count": 28,
      "metadata": {
        "id": "nhlAjEM8U1F_"
      },
      "outputs": [],
      "source": [
        "# Define early stopping callback\n",
        "early_stopping = EarlyStopping(monitor='val_loss', patience=5, restore_best_weights=True)"
      ]
    },
    {
      "cell_type": "markdown",
      "metadata": {
        "id": "pEq4O_c913Fx"
      },
      "source": [
        "**9] This code snippet trains the CNN model on the training data and validates it on the validation data.**\n",
        "\n",
        "* I applied 10 epochs to reduce computational load. (It took 2 hours to train the model on entire 153600 images).\n",
        "* steps per epochs enssures that the all images of the train dataset should be trained even if they arent complitely divisible by 32"
      ]
    },
    {
      "cell_type": "code",
      "execution_count": 29,
      "metadata": {
        "colab": {
          "base_uri": "https://localhost:8080/"
        },
        "id": "aKM64eaT1jhM",
        "outputId": "5f465936-5416-4c0e-c00e-82f4ba9313c2"
      },
      "outputs": [
        {
          "output_type": "stream",
          "name": "stdout",
          "text": [
            "Epoch 1/100\n",
            "239/239 [==============================] - 10s 33ms/step - loss: 1.7434 - accuracy: 0.2061 - val_loss: 1.5674 - val_accuracy: 0.3061\n",
            "Epoch 2/100\n",
            "239/239 [==============================] - 6s 24ms/step - loss: 1.3946 - accuracy: 0.3512 - val_loss: 1.1520 - val_accuracy: 0.4131\n",
            "Epoch 3/100\n",
            "239/239 [==============================] - 8s 33ms/step - loss: 1.1236 - accuracy: 0.4629 - val_loss: 0.9638 - val_accuracy: 0.5461\n",
            "Epoch 4/100\n",
            "239/239 [==============================] - 8s 33ms/step - loss: 0.9337 - accuracy: 0.5604 - val_loss: 0.7537 - val_accuracy: 0.6314\n",
            "Epoch 5/100\n",
            "239/239 [==============================] - 6s 23ms/step - loss: 0.8131 - accuracy: 0.6090 - val_loss: 0.7186 - val_accuracy: 0.6568\n",
            "Epoch 6/100\n",
            "239/239 [==============================] - 6s 25ms/step - loss: 0.7921 - accuracy: 0.6294 - val_loss: 0.6864 - val_accuracy: 0.6547\n",
            "Epoch 7/100\n",
            "239/239 [==============================] - 8s 32ms/step - loss: 0.7840 - accuracy: 0.6275 - val_loss: 0.6093 - val_accuracy: 0.7182\n",
            "Epoch 8/100\n",
            "239/239 [==============================] - 6s 24ms/step - loss: 0.6694 - accuracy: 0.6795 - val_loss: 0.6042 - val_accuracy: 0.6992\n",
            "Epoch 9/100\n",
            "239/239 [==============================] - 7s 30ms/step - loss: 0.6384 - accuracy: 0.6896 - val_loss: 0.6516 - val_accuracy: 0.6949\n",
            "Epoch 10/100\n",
            "239/239 [==============================] - 7s 28ms/step - loss: 0.6290 - accuracy: 0.7049 - val_loss: 0.6250 - val_accuracy: 0.6944\n",
            "Epoch 11/100\n",
            "239/239 [==============================] - 6s 25ms/step - loss: 0.5994 - accuracy: 0.7165 - val_loss: 0.4685 - val_accuracy: 0.7924\n",
            "Epoch 12/100\n",
            "239/239 [==============================] - 6s 23ms/step - loss: 0.5691 - accuracy: 0.7411 - val_loss: 0.4442 - val_accuracy: 0.8067\n",
            "Epoch 13/100\n",
            "239/239 [==============================] - 7s 28ms/step - loss: 0.5311 - accuracy: 0.7654 - val_loss: 0.4957 - val_accuracy: 0.7966\n",
            "Epoch 14/100\n",
            "239/239 [==============================] - 6s 26ms/step - loss: 0.4999 - accuracy: 0.7759 - val_loss: 0.4251 - val_accuracy: 0.8093\n",
            "Epoch 15/100\n",
            "239/239 [==============================] - 8s 32ms/step - loss: 0.5059 - accuracy: 0.7784 - val_loss: 0.3781 - val_accuracy: 0.8469\n",
            "Epoch 16/100\n",
            "239/239 [==============================] - 5s 23ms/step - loss: 0.4708 - accuracy: 0.7977 - val_loss: 0.3571 - val_accuracy: 0.8618\n",
            "Epoch 17/100\n",
            "239/239 [==============================] - 8s 36ms/step - loss: 0.4616 - accuracy: 0.8069 - val_loss: 0.3808 - val_accuracy: 0.8390\n",
            "Epoch 18/100\n",
            "239/239 [==============================] - 6s 25ms/step - loss: 0.4335 - accuracy: 0.8146 - val_loss: 0.3390 - val_accuracy: 0.8517\n",
            "Epoch 19/100\n",
            "239/239 [==============================] - 6s 26ms/step - loss: 0.4150 - accuracy: 0.8298 - val_loss: 0.3575 - val_accuracy: 0.8459\n",
            "Epoch 20/100\n",
            "239/239 [==============================] - 6s 24ms/step - loss: 0.4051 - accuracy: 0.8329 - val_loss: 0.4662 - val_accuracy: 0.8024\n",
            "Epoch 21/100\n",
            "239/239 [==============================] - 7s 31ms/step - loss: 0.3967 - accuracy: 0.8353 - val_loss: 0.3455 - val_accuracy: 0.8506\n",
            "Epoch 22/100\n",
            "239/239 [==============================] - 6s 25ms/step - loss: 0.3930 - accuracy: 0.8419 - val_loss: 0.2742 - val_accuracy: 0.8882\n",
            "Epoch 23/100\n",
            "239/239 [==============================] - 6s 25ms/step - loss: 0.4026 - accuracy: 0.8380 - val_loss: 0.3136 - val_accuracy: 0.8729\n",
            "Epoch 24/100\n",
            "239/239 [==============================] - 7s 31ms/step - loss: 0.3648 - accuracy: 0.8486 - val_loss: 0.2330 - val_accuracy: 0.9084\n",
            "Epoch 25/100\n",
            "239/239 [==============================] - 6s 24ms/step - loss: 0.3699 - accuracy: 0.8532 - val_loss: 0.5422 - val_accuracy: 0.7781\n",
            "Epoch 26/100\n",
            "239/239 [==============================] - 7s 31ms/step - loss: 0.3314 - accuracy: 0.8655 - val_loss: 0.2536 - val_accuracy: 0.8888\n",
            "Epoch 27/100\n",
            "239/239 [==============================] - 6s 24ms/step - loss: 0.3310 - accuracy: 0.8668 - val_loss: 0.2574 - val_accuracy: 0.8904\n",
            "Epoch 28/100\n",
            "239/239 [==============================] - 7s 31ms/step - loss: 0.3370 - accuracy: 0.8677 - val_loss: 0.2824 - val_accuracy: 0.8898\n",
            "Epoch 29/100\n",
            "239/239 [==============================] - 6s 23ms/step - loss: 0.3110 - accuracy: 0.8732 - val_loss: 0.2492 - val_accuracy: 0.9057\n"
          ]
        }
      ],
      "source": [
        "history = model.fit(train_data_generator,\n",
        "          steps_per_epoch=len(X_train) // 32,\n",
        "          epochs=100,  #---------------------------------- increase the number of epochs to allow for early stopping\n",
        "          validation_data=val_data_generator,\n",
        "          validation_steps=len(X_val) // 32,\n",
        "          callbacks=[early_stopping])"
      ]
    },
    {
      "cell_type": "markdown",
      "metadata": {
        "id": "4ZWNAnU710qa"
      },
      "source": [
        "##**Evaluation**"
      ]
    },
    {
      "cell_type": "code",
      "execution_count": 35,
      "metadata": {
        "colab": {
          "base_uri": "https://localhost:8080/"
        },
        "id": "YWHrsSt-1jmF",
        "outputId": "e3dc1aa6-3a6a-4524-d213-4eca3e34b7c9"
      },
      "outputs": [
        {
          "output_type": "stream",
          "name": "stdout",
          "text": [
            "75/75 [==============================] - 0s 4ms/step - loss: 0.1502 - accuracy: 0.9356\n",
            "Test loss: 0.1502, Test accuracy: 0.9356\n"
          ]
        }
      ],
      "source": [
        "# Evaluates the model on test data and gets accuracvy\n",
        "test_loss, test_accuracy = model.evaluate(X_test, y_test)\n",
        "print(f\"Test loss: {test_loss:.4f}, Test accuracy: {test_accuracy:.4f}\")"
      ]
    },
    {
      "cell_type": "code",
      "execution_count": 36,
      "metadata": {
        "colab": {
          "base_uri": "https://localhost:8080/"
        },
        "id": "9r4QwQa31jjy",
        "outputId": "dcda7bd8-5334-48ea-ca2c-b85a5f1cdd55"
      },
      "outputs": [
        {
          "output_type": "stream",
          "name": "stdout",
          "text": [
            "60/60 [==============================] - 0s 4ms/step - loss: 0.1460 - accuracy: 0.9415\n",
            "Validation Accuracy: 0.941453218460083\n"
          ]
        }
      ],
      "source": [
        "# Evaluates the model on validation data and gets accuracvy\n",
        "val_loss, val_accuracy = model.evaluate(X_val, y_val)\n",
        "print(\"Validation Accuracy:\", val_accuracy)"
      ]
    },
    {
      "cell_type": "code",
      "execution_count": 37,
      "metadata": {
        "colab": {
          "base_uri": "https://localhost:8080/",
          "height": 472
        },
        "id": "UD1Kd33iWyfs",
        "outputId": "5aa3ed60-13a5-4e90-8d9e-58172e1a9f8c"
      },
      "outputs": [
        {
          "output_type": "display_data",
          "data": {
            "text/plain": [
              "<Figure size 640x480 with 1 Axes>"
            ],
            "image/png": "[encoded data removed]"
          },
          "metadata": {}
        }
      ],
      "source": [
        "# Accessing accuracy values\n",
        "train_accuracy = history.history['accuracy']\n",
        "val_accuracy = history.history['val_accuracy']\n",
        "epochs = range(1, len(train_accuracy) + 1)\n",
        "\n",
        "# Plotting accuracy vs epochs\n",
        "plt.plot(epochs, train_accuracy, label='Training Accuracy')\n",
        "plt.plot(epochs, val_accuracy, label='Validation Accuracy')\n",
        "plt.title('Accuracy vs Epochs')\n",
        "plt.xlabel('Epochs')\n",
        "plt.ylabel('Accuracy')\n",
        "plt.legend()\n",
        "plt.show()"
      ]
    },
    {
      "cell_type": "code",
      "execution_count": 38,
      "metadata": {
        "colab": {
          "base_uri": "https://localhost:8080/",
          "height": 735
        },
        "id": "1AEB1S4lKPiT",
        "outputId": "7621fc2a-b906-4b13-b827-9bba695f94cc"
      },
      "outputs": [
        {
          "output_type": "stream",
          "name": "stdout",
          "text": [
            "75/75 [==============================] - 0s 3ms/step\n"
          ]
        },
        {
          "output_type": "display_data",
          "data": {
            "text/plain": [
              "<Figure size 1000x800 with 2 Axes>"
            ],
            "image/png": "[encoded data removed]"
          },
          "metadata": {}
        }
      ],
      "source": [
        "#  Visualize confusion matrix\n",
        "predictions = model.predict(X_test)\n",
        "\n",
        "\n",
        "predicted_labels = np.argmax(predictions, axis=1)\n",
        "true_labels = np.argmax(y_test, axis=1)\n",
        "\n",
        "conf_matrix = confusion_matrix(true_labels, predicted_labels)\n",
        "\n",
        "plt.figure(figsize=(10, 8))\n",
        "sns.heatmap(conf_matrix, annot=True, fmt='d', cmap='Blues', xticklabels=label_to_index.keys(), yticklabels=label_to_index.keys())\n",
        "plt.xlabel('Predicted Labels')\n",
        "plt.ylabel('True Labels')\n",
        "plt.title('Confusion Matrix')\n",
        "plt.show()"
      ]
    },
    {
      "cell_type": "markdown",
      "metadata": {
        "id": "LEp1bDVhbmXP"
      },
      "source": [
        "**9] Save the model at specified path**"
      ]
    },
    {
      "cell_type": "code",
      "execution_count": 39,
      "metadata": {
        "id": "HV_GF1xmxkps"
      },
      "outputs": [],
      "source": [
        "# Path eto save the model\n",
        "# path2 = r\"/content/drive/MyDrive/Data Science Advanced Projects/1 Data Science Advanced/Deep learning/Font recognition assessment/New Data\"\n",
        "\n",
        "# model.save(path + 'font_recognition_model_large_model_3.h5')"
      ]
    },
    {
      "cell_type": "markdown",
      "metadata": {
        "id": "IPSJrSRGiM5P"
      },
      "source": [
        "##**Conclusion -**"
      ]
    },
    {
      "cell_type": "markdown",
      "metadata": {
        "id": "d9Qs0jm6Yu2-"
      },
      "source": [
        "**Challenges -**\n",
        "\n",
        "1. Model performance on train data is improving while on validation data its flactuating means model struggles to perform on unseen data and its underlying the overfitting problem.\n",
        "\n",
        "2. Model loss changing slowly could be due to vanishing gradients or the learning rate is too small.\n",
        "\n",
        "3. This could stem from factors such as model complexity or a learning rate that is too low, causing the model struggle with convergence.\n",
        "\n",
        "**Solutoins -**\n",
        "1. Hyperaparmeter tuning with activation functions, batch size,dropout nerons can lead to a better generalised model.\n",
        "\n",
        "2. Regularization techniques such L2 regularization also can helpful.\n",
        "\n",
        "3. Hyperparameter tuning with optimization techniques such as adam, stochastic gradient decent, NaG, RMS prop can also increase the performance.\n",
        "\n",
        "4. Reducing model complexity by increasing dropout neurons, less hidden layers"
      ]
    }
  ],
  "metadata": {
    "colab": {
      "provenance": [],
      "gpuType": "T4",
      "authorship_tag": "ABX9TyO8a7s9+/nd3XCgMJsu4NNS",
      "include_colab_link": true
    },
    "kernelspec": {
      "display_name": "Python 3",
      "name": "python3"
    },
    "language_info": {
      "name": "python"
    },
    "accelerator": "GPU"
  },
  "nbformat": 4,
  "nbformat_minor": 0
}