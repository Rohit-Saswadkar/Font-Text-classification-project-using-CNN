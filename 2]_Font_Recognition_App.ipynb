{
  "nbformat": 4,
  "nbformat_minor": 0,
  "metadata": {
    "colab": {
      "provenance": [],
      "authorship_tag": "ABX9TyODhXkP5mzTtLtCXzrGDhEu",
      "include_colab_link": true
    },
    "kernelspec": {
      "name": "python3",
      "display_name": "Python 3"
    },
    "language_info": {
      "name": "python"
    }
  },
  "cells": [
    {
      "cell_type": "markdown",
      "metadata": {
        "id": "view-in-github",
        "colab_type": "text"
      },
      "source": [
        "<a href=\"https://colab.research.google.com/github/Rohit-Saswadkar/Font-Text-classification-project-using-CNN/blob/main/2%5D_Font_Recognition_App.ipynb\" target=\"_parent\"><img src=\"https://colab.research.google.com/assets/colab-badge.svg\" alt=\"Open In Colab\"/></a>"
      ]
    },
    {
      "cell_type": "markdown",
      "source": [
        "#Font Recognition App using Streamlit"
      ],
      "metadata": {
        "id": "sxMsaqqs2Nr3"
      }
    },
    {
      "cell_type": "code",
      "source": [
        "from google.colab import drive\n",
        "drive.mount('/content/drive')"
      ],
      "metadata": {
        "colab": {
          "base_uri": "https://localhost:8080/"
        },
        "id": "Ou3QSNpwpN4R",
        "outputId": "de289036-e061-45c5-bd30-e76f4da063d7"
      },
      "execution_count": 36,
      "outputs": [
        {
          "output_type": "stream",
          "name": "stdout",
          "text": [
            "Drive already mounted at /content/drive; to attempt to forcibly remount, call drive.mount(\"/content/drive\", force_remount=True).\n"
          ]
        }
      ]
    },
    {
      "cell_type": "markdown",
      "source": [
        "Technologies used -\n",
        "* Open cv - to image processing\n",
        "* easy ocr - to detect texts and regions"
      ],
      "metadata": {
        "id": "1orAfAWSj5Ut"
      }
    },
    {
      "cell_type": "code",
      "source": [
        "!pip install streamlit\n",
        "!pip install easyocr"
      ],
      "metadata": {
        "colab": {
          "base_uri": "https://localhost:8080/"
        },
        "id": "QaYb5n6UpwUq",
        "outputId": "2165900c-9a32-48b4-d9ed-35539d104518"
      },
      "execution_count": 37,
      "outputs": [
        {
          "output_type": "stream",
          "name": "stdout",
          "text": [
            "Requirement already satisfied: streamlit in /usr/local/lib/python3.10/dist-packages (1.35.0)\n",
            "Requirement already satisfied: altair<6,>=4.0 in /usr/local/lib/python3.10/dist-packages (from streamlit) (4.2.2)\n",
            "Requirement already satisfied: blinker<2,>=1.0.0 in /usr/lib/python3/dist-packages (from streamlit) (1.4)\n",
            "Requirement already satisfied: cachetools<6,>=4.0 in /usr/local/lib/python3.10/dist-packages (from streamlit) (5.3.3)\n",
            "Requirement already satisfied: click<9,>=7.0 in /usr/local/lib/python3.10/dist-packages (from streamlit) (8.1.7)\n",
            "Requirement already satisfied: numpy<2,>=1.19.3 in /usr/local/lib/python3.10/dist-packages (from streamlit) (1.25.2)\n",
            "Requirement already satisfied: packaging<25,>=16.8 in /usr/local/lib/python3.10/dist-packages (from streamlit) (24.0)\n",
            "Requirement already satisfied: pandas<3,>=1.3.0 in /usr/local/lib/python3.10/dist-packages (from streamlit) (2.0.3)\n",
            "Requirement already satisfied: pillow<11,>=7.1.0 in /usr/local/lib/python3.10/dist-packages (from streamlit) (9.4.0)\n",
            "Requirement already satisfied: protobuf<5,>=3.20 in /usr/local/lib/python3.10/dist-packages (from streamlit) (3.20.3)\n",
            "Requirement already satisfied: pyarrow>=7.0 in /usr/local/lib/python3.10/dist-packages (from streamlit) (14.0.2)\n",
            "Requirement already satisfied: requests<3,>=2.27 in /usr/local/lib/python3.10/dist-packages (from streamlit) (2.31.0)\n",
            "Requirement already satisfied: rich<14,>=10.14.0 in /usr/local/lib/python3.10/dist-packages (from streamlit) (13.7.1)\n",
            "Requirement already satisfied: tenacity<9,>=8.1.0 in /usr/local/lib/python3.10/dist-packages (from streamlit) (8.3.0)\n",
            "Requirement already satisfied: toml<2,>=0.10.1 in /usr/local/lib/python3.10/dist-packages (from streamlit) (0.10.2)\n",
            "Requirement already satisfied: typing-extensions<5,>=4.3.0 in /usr/local/lib/python3.10/dist-packages (from streamlit) (4.11.0)\n",
            "Requirement already satisfied: gitpython!=3.1.19,<4,>=3.0.7 in /usr/local/lib/python3.10/dist-packages (from streamlit) (3.1.43)\n",
            "Requirement already satisfied: pydeck<1,>=0.8.0b4 in /usr/local/lib/python3.10/dist-packages (from streamlit) (0.9.1)\n",
            "Requirement already satisfied: tornado<7,>=6.0.3 in /usr/local/lib/python3.10/dist-packages (from streamlit) (6.3.3)\n",
            "Requirement already satisfied: watchdog>=2.1.5 in /usr/local/lib/python3.10/dist-packages (from streamlit) (4.0.1)\n",
            "Requirement already satisfied: entrypoints in /usr/local/lib/python3.10/dist-packages (from altair<6,>=4.0->streamlit) (0.4)\n",
            "Requirement already satisfied: jinja2 in /usr/local/lib/python3.10/dist-packages (from altair<6,>=4.0->streamlit) (3.1.4)\n",
            "Requirement already satisfied: jsonschema>=3.0 in /usr/local/lib/python3.10/dist-packages (from altair<6,>=4.0->streamlit) (4.19.2)\n",
            "Requirement already satisfied: toolz in /usr/local/lib/python3.10/dist-packages (from altair<6,>=4.0->streamlit) (0.12.1)\n",
            "Requirement already satisfied: gitdb<5,>=4.0.1 in /usr/local/lib/python3.10/dist-packages (from gitpython!=3.1.19,<4,>=3.0.7->streamlit) (4.0.11)\n",
            "Requirement already satisfied: python-dateutil>=2.8.2 in /usr/local/lib/python3.10/dist-packages (from pandas<3,>=1.3.0->streamlit) (2.8.2)\n",
            "Requirement already satisfied: pytz>=2020.1 in /usr/local/lib/python3.10/dist-packages (from pandas<3,>=1.3.0->streamlit) (2023.4)\n",
            "Requirement already satisfied: tzdata>=2022.1 in /usr/local/lib/python3.10/dist-packages (from pandas<3,>=1.3.0->streamlit) (2024.1)\n",
            "Requirement already satisfied: charset-normalizer<4,>=2 in /usr/local/lib/python3.10/dist-packages (from requests<3,>=2.27->streamlit) (3.3.2)\n",
            "Requirement already satisfied: idna<4,>=2.5 in /usr/local/lib/python3.10/dist-packages (from requests<3,>=2.27->streamlit) (3.7)\n",
            "Requirement already satisfied: urllib3<3,>=1.21.1 in /usr/local/lib/python3.10/dist-packages (from requests<3,>=2.27->streamlit) (2.0.7)\n",
            "Requirement already satisfied: certifi>=2017.4.17 in /usr/local/lib/python3.10/dist-packages (from requests<3,>=2.27->streamlit) (2024.2.2)\n",
            "Requirement already satisfied: markdown-it-py>=2.2.0 in /usr/local/lib/python3.10/dist-packages (from rich<14,>=10.14.0->streamlit) (3.0.0)\n",
            "Requirement already satisfied: pygments<3.0.0,>=2.13.0 in /usr/local/lib/python3.10/dist-packages (from rich<14,>=10.14.0->streamlit) (2.16.1)\n",
            "Requirement already satisfied: smmap<6,>=3.0.1 in /usr/local/lib/python3.10/dist-packages (from gitdb<5,>=4.0.1->gitpython!=3.1.19,<4,>=3.0.7->streamlit) (5.0.1)\n",
            "Requirement already satisfied: MarkupSafe>=2.0 in /usr/local/lib/python3.10/dist-packages (from jinja2->altair<6,>=4.0->streamlit) (2.1.5)\n",
            "Requirement already satisfied: attrs>=22.2.0 in /usr/local/lib/python3.10/dist-packages (from jsonschema>=3.0->altair<6,>=4.0->streamlit) (23.2.0)\n",
            "Requirement already satisfied: jsonschema-specifications>=2023.03.6 in /usr/local/lib/python3.10/dist-packages (from jsonschema>=3.0->altair<6,>=4.0->streamlit) (2023.12.1)\n",
            "Requirement already satisfied: referencing>=0.28.4 in /usr/local/lib/python3.10/dist-packages (from jsonschema>=3.0->altair<6,>=4.0->streamlit) (0.35.1)\n",
            "Requirement already satisfied: rpds-py>=0.7.1 in /usr/local/lib/python3.10/dist-packages (from jsonschema>=3.0->altair<6,>=4.0->streamlit) (0.18.1)\n",
            "Requirement already satisfied: mdurl~=0.1 in /usr/local/lib/python3.10/dist-packages (from markdown-it-py>=2.2.0->rich<14,>=10.14.0->streamlit) (0.1.2)\n",
            "Requirement already satisfied: six>=1.5 in /usr/local/lib/python3.10/dist-packages (from python-dateutil>=2.8.2->pandas<3,>=1.3.0->streamlit) (1.16.0)\n",
            "Requirement already satisfied: easyocr in /usr/local/lib/python3.10/dist-packages (1.7.1)\n",
            "Requirement already satisfied: torch in /usr/local/lib/python3.10/dist-packages (from easyocr) (2.3.0+cu121)\n",
            "Requirement already satisfied: torchvision>=0.5 in /usr/local/lib/python3.10/dist-packages (from easyocr) (0.18.0+cu121)\n",
            "Requirement already satisfied: opencv-python-headless in /usr/local/lib/python3.10/dist-packages (from easyocr) (4.9.0.80)\n",
            "Requirement already satisfied: scipy in /usr/local/lib/python3.10/dist-packages (from easyocr) (1.11.4)\n",
            "Requirement already satisfied: numpy in /usr/local/lib/python3.10/dist-packages (from easyocr) (1.25.2)\n",
            "Requirement already satisfied: Pillow in /usr/local/lib/python3.10/dist-packages (from easyocr) (9.4.0)\n",
            "Requirement already satisfied: scikit-image in /usr/local/lib/python3.10/dist-packages (from easyocr) (0.19.3)\n",
            "Requirement already satisfied: python-bidi in /usr/local/lib/python3.10/dist-packages (from easyocr) (0.4.2)\n",
            "Requirement already satisfied: PyYAML in /usr/local/lib/python3.10/dist-packages (from easyocr) (6.0.1)\n",
            "Requirement already satisfied: Shapely in /usr/local/lib/python3.10/dist-packages (from easyocr) (2.0.4)\n",
            "Requirement already satisfied: pyclipper in /usr/local/lib/python3.10/dist-packages (from easyocr) (1.3.0.post5)\n",
            "Requirement already satisfied: ninja in /usr/local/lib/python3.10/dist-packages (from easyocr) (1.11.1.1)\n",
            "Requirement already satisfied: filelock in /usr/local/lib/python3.10/dist-packages (from torch->easyocr) (3.14.0)\n",
            "Requirement already satisfied: typing-extensions>=4.8.0 in /usr/local/lib/python3.10/dist-packages (from torch->easyocr) (4.11.0)\n",
            "Requirement already satisfied: sympy in /usr/local/lib/python3.10/dist-packages (from torch->easyocr) (1.12)\n",
            "Requirement already satisfied: networkx in /usr/local/lib/python3.10/dist-packages (from torch->easyocr) (3.3)\n",
            "Requirement already satisfied: jinja2 in /usr/local/lib/python3.10/dist-packages (from torch->easyocr) (3.1.4)\n",
            "Requirement already satisfied: fsspec in /usr/local/lib/python3.10/dist-packages (from torch->easyocr) (2023.6.0)\n",
            "Requirement already satisfied: nvidia-cuda-nvrtc-cu12==12.1.105 in /usr/local/lib/python3.10/dist-packages (from torch->easyocr) (12.1.105)\n",
            "Requirement already satisfied: nvidia-cuda-runtime-cu12==12.1.105 in /usr/local/lib/python3.10/dist-packages (from torch->easyocr) (12.1.105)\n",
            "Requirement already satisfied: nvidia-cuda-cupti-cu12==12.1.105 in /usr/local/lib/python3.10/dist-packages (from torch->easyocr) (12.1.105)\n",
            "Requirement already satisfied: nvidia-cudnn-cu12==8.9.2.26 in /usr/local/lib/python3.10/dist-packages (from torch->easyocr) (8.9.2.26)\n",
            "Requirement already satisfied: nvidia-cublas-cu12==12.1.3.1 in /usr/local/lib/python3.10/dist-packages (from torch->easyocr) (12.1.3.1)\n",
            "Requirement already satisfied: nvidia-cufft-cu12==11.0.2.54 in /usr/local/lib/python3.10/dist-packages (from torch->easyocr) (11.0.2.54)\n",
            "Requirement already satisfied: nvidia-curand-cu12==10.3.2.106 in /usr/local/lib/python3.10/dist-packages (from torch->easyocr) (10.3.2.106)\n",
            "Requirement already satisfied: nvidia-cusolver-cu12==11.4.5.107 in /usr/local/lib/python3.10/dist-packages (from torch->easyocr) (11.4.5.107)\n",
            "Requirement already satisfied: nvidia-cusparse-cu12==12.1.0.106 in /usr/local/lib/python3.10/dist-packages (from torch->easyocr) (12.1.0.106)\n",
            "Requirement already satisfied: nvidia-nccl-cu12==2.20.5 in /usr/local/lib/python3.10/dist-packages (from torch->easyocr) (2.20.5)\n",
            "Requirement already satisfied: nvidia-nvtx-cu12==12.1.105 in /usr/local/lib/python3.10/dist-packages (from torch->easyocr) (12.1.105)\n",
            "Requirement already satisfied: triton==2.3.0 in /usr/local/lib/python3.10/dist-packages (from torch->easyocr) (2.3.0)\n",
            "Requirement already satisfied: nvidia-nvjitlink-cu12 in /usr/local/lib/python3.10/dist-packages (from nvidia-cusolver-cu12==11.4.5.107->torch->easyocr) (12.5.40)\n",
            "Requirement already satisfied: six in /usr/local/lib/python3.10/dist-packages (from python-bidi->easyocr) (1.16.0)\n",
            "Requirement already satisfied: imageio>=2.4.1 in /usr/local/lib/python3.10/dist-packages (from scikit-image->easyocr) (2.31.6)\n",
            "Requirement already satisfied: tifffile>=2019.7.26 in /usr/local/lib/python3.10/dist-packages (from scikit-image->easyocr) (2024.5.10)\n",
            "Requirement already satisfied: PyWavelets>=1.1.1 in /usr/local/lib/python3.10/dist-packages (from scikit-image->easyocr) (1.6.0)\n",
            "Requirement already satisfied: packaging>=20.0 in /usr/local/lib/python3.10/dist-packages (from scikit-image->easyocr) (24.0)\n",
            "Requirement already satisfied: MarkupSafe>=2.0 in /usr/local/lib/python3.10/dist-packages (from jinja2->torch->easyocr) (2.1.5)\n",
            "Requirement already satisfied: mpmath>=0.19 in /usr/local/lib/python3.10/dist-packages (from sympy->torch->easyocr) (1.3.0)\n"
          ]
        }
      ]
    },
    {
      "cell_type": "code",
      "execution_count": 39,
      "metadata": {
        "colab": {
          "base_uri": "https://localhost:8080/"
        },
        "id": "jA5vy6LLoz2Q",
        "outputId": "8fd9e2a0-16b7-4d90-c748-0f76a9ba2250"
      },
      "outputs": [
        {
          "output_type": "stream",
          "name": "stdout",
          "text": [
            "Overwriting app.py\n"
          ]
        }
      ],
      "source": [
        "import streamlit as st\n",
        "import cv2\n",
        "import easyocr\n",
        "import numpy as np\n",
        "from tensorflow.keras.models import load_model\n",
        "from PIL import Image"
      ]
    },
    {
      "cell_type": "code",
      "source": [
        "# List of font class names\n",
        "classes = ['Agency', 'Akzidenz Grotesk', 'Algerian', 'Arial', 'Baskerville', 'Bell MT', 'Bembo', 'Bodoni', 'Book Antiqua', 'Brandish', 'Calibry', 'Californian FB', 'Calligraphy', 'Calvin', 'Cambria', 'Candara', 'Century', 'Comic Sans MS', 'Consolas', 'Corbel', 'Courier', 'Didot', 'Elephant', 'Fascinate', 'Franklin Gothic', 'Frutiger', 'Futura', 'Garamond', 'Georgia', 'Gill sans', 'Helvetica', 'Hombre', 'LCD Mono', 'Lucida Bright', 'Minion', 'Monotype Corsiva', 'Mrs Eaves', 'Myriad', 'Nasalization', 'News Gothic', 'Palatino linotype', 'Perpetua', 'Rockwell', 'Sabon', 'Snowdrift Regular', 'Steppes TT', 'Times New Roman', 'Verdana']\n"
      ],
      "metadata": {
        "id": "_tfgJX7Zo23t"
      },
      "execution_count": 42,
      "outputs": []
    },
    {
      "cell_type": "markdown",
      "source": [
        "* 1] Load pre-trained model"
      ],
      "metadata": {
        "id": "Hxa0sBI967k8"
      }
    },
    {
      "cell_type": "code",
      "source": [
        "# Define path to our font recognition model\n",
        "font_model_path = r\"/content/drive/MyDrive/Data Science Advanced Projects/1 Data Science Advanced/Deep learning/Font recognition assessment/Models/Font Dataset Large Model H5 file new 10.h5\"\n"
      ],
      "metadata": {
        "id": "TVSiEmgWo5w_"
      },
      "execution_count": 43,
      "outputs": []
    },
    {
      "cell_type": "code",
      "source": [
        "# load our pretrained font recognition model\n",
        "font_model = load_model(font_model_path)"
      ],
      "metadata": {
        "id": "IMrwzQtBpDxl"
      },
      "execution_count": 48,
      "outputs": []
    },
    {
      "cell_type": "markdown",
      "source": [
        "2] Data preprocessing\n",
        "* Converted color image to grey scale using open cv\n",
        "* Resizing the image to 64 x 64 using open cv\n",
        "* Normalizing the values of the image in the range of 0 to 255."
      ],
      "metadata": {
        "id": "pZ0iYHhpkUQC"
      }
    },
    {
      "cell_type": "code",
      "source": [
        "# Function to preprocess the image patch for your font recognition model\n",
        "def preprocess_image(image_patch):\n",
        "    # convert to grayscale as our model trained on grayscale\n",
        "    gray_patch = cv2.cvtColor(image_patch, cv2.COLOR_BGR2GRAY)\n",
        "    # resize the image patch to a fixed size expected by your model\n",
        "    resized_patch = cv2.resize(gray_patch, (128, 32))\n",
        "    # normalize pixel values (convert to range 0-1)\n",
        "    normalized_patch = resized_patch / 255.0\n",
        "    return normalized_patch\n"
      ],
      "metadata": {
        "id": "nMb7rXpDo9Ew"
      },
      "execution_count": 46,
      "outputs": []
    },
    {
      "cell_type": "markdown",
      "source": [
        "3] created a image font prediction function using my model\n",
        "* it get input as image patch , model and classes of the dataset model trained on and returns the class of detected font"
      ],
      "metadata": {
        "id": "38xEp6SykXl0"
      }
    },
    {
      "cell_type": "code",
      "source": [
        "# my function to predict font using your model\n",
        "def predict_font(image_patch, font_model, classes):\n",
        "    # preprocess each patch\n",
        "    preprocessed_patch = preprocess_image(image_patch)\n",
        "\n",
        "    predicted_font = font_model.predict(np.expand_dims(preprocessed_patch, axis=0)) # ------------------- our model for font prediction\n",
        "\n",
        "    predicted_font_index = np.argmax(predicted_font)\n",
        "\n",
        "    predicted_font_name = classes[predicted_font_index]\n",
        "\n",
        "    return predicted_font_name\n"
      ],
      "metadata": {
        "id": "xKGn3sJWpA9o"
      },
      "execution_count": 47,
      "outputs": []
    },
    {
      "cell_type": "code",
      "source": [
        "# Streamlit app interface\n",
        "st.title(\"Font Recognition App\")\n",
        "st.write('by Rohit Rajendra Saswadkar')\n",
        "st.write(\"Upload an image, and the app will detect text regions and recognize the fonts used.\")"
      ],
      "metadata": {
        "id": "71r3KMzqpGGJ"
      },
      "execution_count": 49,
      "outputs": []
    },
    {
      "cell_type": "code",
      "source": [
        "# File uploader for the image\n",
        "uploaded_file = st.file_uploader(\"Choose an image...\", type=[\"jpg\", \"jpeg\", \"png\"])"
      ],
      "metadata": {
        "id": "Lj0H8jNypHyZ"
      },
      "execution_count": 50,
      "outputs": []
    },
    {
      "cell_type": "markdown",
      "source": [
        "* This extracts the each box with its text and confidence score\n",
        "* If confidence score > 0.4 then it shows the text else not.\n",
        "* The line 1) creates text regions on the image using open cv\n",
        "* Theline 2) shows the extracted texts with predicted font on the image using open cv\n",
        "* Finally this line 3) shows the image in colors"
      ],
      "metadata": {
        "id": "eI-o22kFrCyl"
      }
    },
    {
      "cell_type": "code",
      "source": [
        "if uploaded_file is not None:\n",
        "    # Image reading\n",
        "    # Reading the images using opencv\n",
        "    # Used Optical Character Recognition (easy OCR) to detect and extract texts from image and create text bounding boxes\n",
        "    image = Image.open(uploaded_file)\n",
        "    img = np.array(image)\n",
        "\n",
        "    # Text detection with EasyOCR\n",
        "    reader = easyocr.Reader(['en'], gpu=False)\n",
        "    text_ = reader.readtext(img)\n",
        "\n",
        "    threshold = 0.25\n",
        "\n",
        "    # Draw bbox, text, and predicted font\n",
        "    for t_, t in enumerate(text_):\n",
        "        bbox, text, score = t\n",
        "        if score > threshold:\n",
        "            # Draw the bounding box\n",
        "            cv2.rectangle(img, tuple(bbox[0]), tuple(bbox[2]), (0, 255, 0), 2) # --------------------------------------------- 1) to show region bounded texts\n",
        "\n",
        "            # Extract the text patch\n",
        "            x_min = min(bbox[0][0], bbox[3][0])\n",
        "            x_max = max(bbox[1][0], bbox[2][0])\n",
        "            y_min = min(bbox[0][1], bbox[1][1])\n",
        "            y_max = max(bbox[2][1], bbox[3][1])\n",
        "            text_patch = img[y_min:y_max, x_min:x_max]\n",
        "\n",
        "            if text_patch.size > 0:\n",
        "                # Predict font using your model\n",
        "                predicted_font = predict_font(text_patch, font_model, classes) # ----------extracted text patch, model and classes are forword to prediction function and it detects\n",
        "\n",
        "                # Display text and predicted font\n",
        "                font_text = f\"{text} (Font: {predicted_font})\"\n",
        "                cv2.putText(img, font_text, (bbox[0][0], bbox[0][1] - 10), cv2.FONT_HERSHEY_SIMPLEX, 0.5, (255, 0, 0), 2) # ---2) to show texts and predicted font\n"
      ],
      "metadata": {
        "id": "yEuHDmDRpJmh"
      },
      "execution_count": 51,
      "outputs": []
    },
    {
      "cell_type": "markdown",
      "source": [
        "Display the input and processed image"
      ],
      "metadata": {
        "id": "GfsS2hTdxS9p"
      }
    },
    {
      "cell_type": "code",
      "source": [
        " # Display the images side by side using Streamlit columns\n",
        "    col1, col2 = st.columns(2)\n",
        "    with col1:\n",
        "        st.header(\"Input Image\")\n",
        "        st.image(image, caption='Uploaded Image', use_column_width=True)\n",
        "\n",
        "    with col2:\n",
        "        st.header(\"Processed Image\")\n",
        "        st.image(img, caption='Processed Image', use_column_width=True)"
      ],
      "metadata": {
        "id": "Ga9WBGcIY7vd"
      },
      "execution_count": null,
      "outputs": []
    }
  ]
}