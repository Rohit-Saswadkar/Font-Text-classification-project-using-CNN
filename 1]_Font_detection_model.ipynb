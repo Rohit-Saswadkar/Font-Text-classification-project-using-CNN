{
  "nbformat": 4,
  "nbformat_minor": 0,
  "metadata": {
    "colab": {
      "provenance": [],
      "authorship_tag": "ABX9TyNu3ErQVIER2TKp+nH/bblm",
      "include_colab_link": true
    },
    "kernelspec": {
      "name": "python3",
      "display_name": "Python 3"
    },
    "language_info": {
      "name": "python"
    }
  },
  "cells": [
    {
      "cell_type": "markdown",
      "metadata": {
        "id": "view-in-github",
        "colab_type": "text"
      },
      "source": [
        "<a href=\"https://colab.research.google.com/github/Rohit-Saswadkar/Font-Text-classification-project-using-CNN/blob/main/1%5D_Font_detection_model.ipynb\" target=\"_parent\"><img src=\"https://colab.research.google.com/assets/colab-badge.svg\" alt=\"Open In Colab\"/></a>"
      ]
    },
    {
      "cell_type": "markdown",
      "source": [
        "#Font detection using CNN"
      ],
      "metadata": {
        "id": "MjD007MhYouO"
      }
    },
    {
      "cell_type": "markdown",
      "source": [
        "by Rohit Saswadkar\n",
        "* email - rohit.saswadkar1@gmail.com\n",
        "* Project Link - https://github.com/Rohit-Saswadkar/Font-Text-classification-project-using-CNN/tree/main\\\n",
        "* Dataset download link - https://www.kaggle.com/datasets/muhammadardiputra/font-recognition-data/download?datasetVersionNumber=1\n",
        "* Dataset website - https://www.kaggle.com/datasets/muhammadardiputra/font-recognition-data"
      ],
      "metadata": {
        "id": "hNrIw6wYYsSz"
      }
    },
    {
      "cell_type": "code",
      "source": [
        "!pip install tensorflow\n",
        "!pip install cv2"
      ],
      "metadata": {
        "id": "Gzvj_wP7o-cu"
      },
      "execution_count": null,
      "outputs": []
    },
    {
      "cell_type": "code",
      "execution_count": null,
      "metadata": {
        "colab": {
          "base_uri": "https://localhost:8080/"
        },
        "id": "7Y4hAIKdog5W",
        "outputId": "8166df2f-754e-4e5e-df93-60bbbfa9179a"
      },
      "outputs": [
        {
          "output_type": "stream",
          "name": "stdout",
          "text": [
            "Mounted at /content/drive\n"
          ]
        }
      ],
      "source": [
        "from google.colab import drive\n",
        "drive.mount('/content/drive')"
      ]
    },
    {
      "cell_type": "markdown",
      "source": [
        "1] Import required libraries"
      ],
      "metadata": {
        "id": "QTfluBogZhqr"
      }
    },
    {
      "cell_type": "code",
      "source": [
        "import numpy as np\n",
        "import tensorflow as tf\n",
        "from tensorflow.keras import layers, models\n",
        "from sklearn.model_selection import train_test_split\n",
        "import os\n",
        "import cv2"
      ],
      "metadata": {
        "id": "vX5y-vbt1QD0"
      },
      "execution_count": null,
      "outputs": []
    },
    {
      "cell_type": "markdown",
      "source": [
        "2] Download the dataset from the provided link and paste the file path below to begin the training process.\n",
        "* There are 2 Datasets 1] color and 2] grey scale. I trained on grey scale to reduce computation load on system. Load that grescale datasets in the path"
      ],
      "metadata": {
        "id": "ok1nm308Z5M1"
      }
    },
    {
      "cell_type": "code",
      "source": [
        "# Load the font dataset\n",
        "path = r\"C:\\Users\\saswa\\OneDrive\\Documents\\pandas data\\data\\Deep Learning\\3 Font detection\\Datase 22t\\Font Dataset Large\""
      ],
      "metadata": {
        "id": "3C3wXEKW1Lmx"
      },
      "execution_count": null,
      "outputs": []
    },
    {
      "cell_type": "markdown",
      "source": [
        "3] This function loads font images and their corresponding labels from the specified directory. It get input as dictionary , extracts the images and its corresponding labels and stores this into images and labels lists.\n",
        "\n",
        "* I used cv2 to convert the color images to grayscale as we have to only text classification ( also it reduce the computationl load on the PC). we can also train the model using color data as we have to only remove the line number 1] & 2] as shown in below\n"
      ],
      "metadata": {
        "id": "ElR9bMwZa3zW"
      }
    },
    {
      "cell_type": "code",
      "source": [
        "# load font images and labels\n",
        "def load_data(data_directory):\n",
        "    images = []\n",
        "    labels = []\n",
        "    font_names = os.listdir(data_directory)\n",
        "    for font_name in font_names:\n",
        "        font_dir = os.path.join(data_directory, font_name)\n",
        "        for image_name in os.listdir(font_dir):\n",
        "            image_path = os.path.join(font_dir, image_name)\n",
        "            image = cv2.imread(image_path)\n",
        "            image = cv2.cvtColor(image, cv2.COLOR_BGR2GRAY)  # Convert to grayscale if needed  ----------------1] remove this to train on color data\n",
        "            image = cv2.resize(image, (32, 32))  # Resize image to uniform size                ----------------2] replace as (32,32,3) for color data\n",
        "            images.append(image)\n",
        "            labels.append(font_name)\n",
        "    return np.array(images), np.array(labels)"
      ],
      "metadata": {
        "id": "FEQt_wOy1SiZ"
      },
      "execution_count": null,
      "outputs": []
    },
    {
      "cell_type": "code",
      "source": [
        "data_directory = path\n",
        "images, labels = load_data(data_directory)"
      ],
      "metadata": {
        "id": "xnx-2_eg1Wec"
      },
      "execution_count": null,
      "outputs": []
    },
    {
      "cell_type": "markdown",
      "source": [
        "Applied one hot encoding on the labels as we have multiple classes"
      ],
      "metadata": {
        "id": "Ji6pJv6ZZT7k"
      }
    },
    {
      "cell_type": "code",
      "source": [
        "# Convert labels to one-hot encoding\n",
        "label_to_index = {label: i for i, label in enumerate(np.unique(labels))}\n",
        "index_to_label = {i: label for label, i in label_to_index.items()}\n",
        "labels_encoded = np.array([label_to_index[label] for label in labels])\n",
        "labels_one_hot = tf.keras.utils.to_categorical(labels_encoded)"
      ],
      "metadata": {
        "id": "mYIGMpIQ1YvG"
      },
      "execution_count": null,
      "outputs": []
    },
    {
      "cell_type": "markdown",
      "source": [
        "4] This code snippet splits the dataset into training, validation, and test sets using the train_test_split function."
      ],
      "metadata": {
        "id": "szqaWsDHa78R"
      }
    },
    {
      "cell_type": "code",
      "source": [
        "# Split data into training, validation, and test sets\n",
        "X_train, X_test, y_train, y_test = train_test_split(images, labels_one_hot, test_size=0.2, random_state=42)\n",
        "X_train, X_val, y_train, y_val = train_test_split(X_train, y_train, test_size=0.2, random_state=42)"
      ],
      "metadata": {
        "id": "M37DH56W1aZe"
      },
      "execution_count": null,
      "outputs": []
    },
    {
      "cell_type": "markdown",
      "source": [
        "5] This code snippet splits the dataset into training, validation, and test sets using the train_test_split function.\n",
        "\n",
        "* 1] in this I created 32 filters as of size 3 * 3 and slides along the image to extract meaninful features.\n",
        "\n",
        "* 2] I used max pooling to extract the most valuable features by size of 2 * 2 to minimize computation and reduce overfitting.\n",
        "\n",
        "*  I used relu as activation function in hidden layer to introduce non linearity in the model which returns values if its positive else returns 0 if the vlues is negative.\n",
        "\n",
        "* 3] Used Flatten layer as it flattens the input matrix into 1d array\n",
        "\n",
        "* 4] I Created dense layers of 64 neurons to reduce computational power as I trained this model in my laptop and also it reduces overfitting.\n",
        "\n",
        "* 5] I used softmax in output layer as its mostly used for classification tasks. it converts raw inputs to the probabilities of the classes.\n"
      ],
      "metadata": {
        "id": "oP2QQCJya-wp"
      }
    },
    {
      "cell_type": "code",
      "source": [
        "# Define the CNN model architecture\n",
        "model = models.Sequential([\n",
        "    layers.Conv2D(32, (3, 3), activation='relu', input_shape=(32, 32, 1)), #  - 1]\n",
        "    layers.MaxPooling2D((2, 2)), #                                            - 2]\n",
        "    layers.Conv2D(64, (3, 3), activation='relu'),\n",
        "    layers.MaxPooling2D((2, 2)),\n",
        "    layers.Conv2D(64, (3, 3), activation='relu'),\n",
        "    layers.Flatten(), #                                                       - 3]\n",
        "    layers.Dense(64, activation='relu'), #                                    - 4]\n",
        "    layers.Dense(len(label_to_index), activation='softmax')  #                - 5] Output layer with softmax activation\n",
        "])"
      ],
      "metadata": {
        "id": "9CgqArAa1ejR"
      },
      "execution_count": null,
      "outputs": []
    },
    {
      "cell_type": "markdown",
      "source": [
        "6] This code snippet compiles the CNN model with the specified optimizer, loss function, and metrics.\n",
        "\n",
        "* Used adam as learning to adjust the weights during each epochs as its robust to sparse or noisy gradients.\n",
        "\n",
        "* I used categorical crossentropy as i applied one hot encoding on labels else we have to use sparse categoruical cross entropy.\n",
        "\n",
        "* Used Accuracy as performance monitoring metrics during training as our classification task."
      ],
      "metadata": {
        "id": "0Qdx7yTqbCMA"
      }
    },
    {
      "cell_type": "code",
      "source": [
        "# Compile the model\n",
        "model.compile(optimizer='adam',\n",
        "              loss='categorical_crossentropy',\n",
        "              metrics=['accuracy'])"
      ],
      "metadata": {
        "id": "riVrkO2n1gxa"
      },
      "execution_count": null,
      "outputs": []
    },
    {
      "cell_type": "markdown",
      "source": [
        "7] This code preprocesses the data by normalizing pixel values and reshaping the input data to match the CNN input shape.\n",
        "\n",
        "* Each value in matrix of an image represents the color range from 0 to 255 so\n",
        " I Normalized the values of each image by dividing by 255 to convert them in the range of 0 to 1."
      ],
      "metadata": {
        "id": "9l0OQ3zcbFk6"
      }
    },
    {
      "cell_type": "code",
      "source": [
        "# preprocess the data (normalize pixel values)\n",
        "X_train = X_train.astype('float32') / 255\n",
        "X_val = X_val.astype('float32') / 255\n",
        "X_test = X_test.astype('float32') / 255\n",
        "\n",
        "# reshape data to match the input shape of the CNN\n",
        "X_train = np.expand_dims(X_train, axis=-1)\n",
        "X_val = np.expand_dims(X_val, axis=-1)\n",
        "X_test = np.expand_dims(X_test, axis=-1)"
      ],
      "metadata": {
        "id": "NB0uysv01i1H"
      },
      "execution_count": null,
      "outputs": []
    },
    {
      "cell_type": "markdown",
      "source": [
        "8] This code snippet trains the CNN model on the training data and validates it on the validation data.\n",
        "\n",
        "I applied 10 epochs to reuce computational load on my laptop"
      ],
      "metadata": {
        "id": "pEq4O_c913Fx"
      }
    },
    {
      "cell_type": "code",
      "source": [
        "history = model.fit(X_train, y_train, epochs=10, batch_size=32, validation_data=(X_val, y_val))"
      ],
      "metadata": {
        "id": "aKM64eaT1jhM"
      },
      "execution_count": null,
      "outputs": []
    },
    {
      "cell_type": "markdown",
      "source": [
        "9] This code created to evaluate the trained model on the validation and test datasets."
      ],
      "metadata": {
        "id": "4ZWNAnU710qa"
      }
    },
    {
      "cell_type": "code",
      "source": [
        "# Evaluates the model on validation data and test data and gets accuracvy\n",
        "val_loss, val_accuracy = model.evaluate(X_val, y_val)\n",
        "print(\"Validation Accuracy:\", val_accuracy)"
      ],
      "metadata": {
        "id": "9r4QwQa31jjy"
      },
      "execution_count": null,
      "outputs": []
    },
    {
      "cell_type": "code",
      "source": [
        "test_loss, test_accuracy = model.evaluate(X_test, y_test)\n",
        "print(\"Test Accuracy:\", test_accuracy)"
      ],
      "metadata": {
        "id": "YWHrsSt-1jmF"
      },
      "execution_count": null,
      "outputs": []
    },
    {
      "cell_type": "markdown",
      "source": [
        "10] Save the model at specified path"
      ],
      "metadata": {
        "id": "LEp1bDVhbmXP"
      }
    },
    {
      "cell_type": "code",
      "source": [
        "# Path eto save the model\n",
        "path2 = r\"C:\\Users\\saswa\\OneDrive\\Documents\\pandas data\\data\\Deep Learning\\3 Font detection\\Datase 22t\\Font Dataset Large\"\n",
        "\n",
        "model.save(path + 'font_recognition_model_large_model_3.h5')"
      ],
      "metadata": {
        "id": "HV_GF1xmxkps"
      },
      "execution_count": null,
      "outputs": []
    }
  ]
}